{
 "cells": [
  {
   "attachments": {},
   "cell_type": "markdown",
   "metadata": {},
   "source": [
    "### 0: Imports"
   ]
  },
  {
   "cell_type": "code",
   "execution_count": 1,
   "metadata": {},
   "outputs": [],
   "source": [
    "import datetime\n",
    "import pandas as pd\n",
    "import praw\n",
    "from pmaw import PushshiftAPI\n",
    "import mysql.connector\n",
    "from mysql.connector import Error"
   ]
  },
  {
   "attachments": {},
   "cell_type": "markdown",
   "metadata": {},
   "source": [
    "### 1: API Infos"
   ]
  },
  {
   "cell_type": "code",
   "execution_count": 2,
   "metadata": {},
   "outputs": [],
   "source": [
    "info_file = open(\"api info.txt\", \"r\")\n",
    "id = info_file.readline().replace(\"\\n\", \"\")\n",
    "secret = info_file.readline().replace(\"\\n\", \"\")\n",
    "ua = info_file.readline().replace(\"\\n\", \"\")"
   ]
  },
  {
   "attachments": {},
   "cell_type": "markdown",
   "metadata": {},
   "source": [
    "### 2: Initialisation"
   ]
  },
  {
   "cell_type": "code",
   "execution_count": 69,
   "metadata": {},
   "outputs": [],
   "source": [
    "reddit = praw.Reddit(\n",
    " client_id=id,\n",
    " client_secret=secret,\n",
    " user_agent=ua\n",
    ")\n",
    "api_praw = PushshiftAPI(praw=reddit)\n",
    "\n",
    "before = int(datetime.datetime(2023,3,28,0,0).timestamp())\n",
    "after = int(datetime.datetime(2015,3,28,0,0).timestamp())"
   ]
  },
  {
   "attachments": {},
   "cell_type": "markdown",
   "metadata": {},
   "source": [
    "### 3: Fetching Data"
   ]
  },
  {
   "cell_type": "code",
   "execution_count": 71,
   "metadata": {},
   "outputs": [
    {
     "ename": "KeyboardInterrupt",
     "evalue": "",
     "output_type": "error",
     "traceback": [
      "\u001b[1;31m---------------------------------------------------------------------------\u001b[0m",
      "\u001b[1;31mKeyboardInterrupt\u001b[0m                         Traceback (most recent call last)",
      "Cell \u001b[1;32mIn[71], line 1\u001b[0m\n\u001b[1;32m----> 1\u001b[0m posts \u001b[39m=\u001b[39m api_praw\u001b[39m.\u001b[39;49msearch_submissions(subreddit\u001b[39m=\u001b[39;49m\u001b[39m\"\u001b[39;49m\u001b[39mfrance\u001b[39;49m\u001b[39m\"\u001b[39;49m, limit\u001b[39m=\u001b[39;49m\u001b[39m999\u001b[39;49m, before\u001b[39m=\u001b[39;49mbefore, after\u001b[39m=\u001b[39;49mafter)\n\u001b[0;32m      2\u001b[0m post_list \u001b[39m=\u001b[39m [post \u001b[39mfor\u001b[39;00m post \u001b[39min\u001b[39;00m posts]\n",
      "File \u001b[1;32mc:\\Users\\celli\\AppData\\Local\\Programs\\Python\\Python311\\Lib\\site-packages\\pmaw\\PushshiftAPI.py:77\u001b[0m, in \u001b[0;36mPushshiftAPI.search_submissions\u001b[1;34m(self, **kwargs)\u001b[0m\n\u001b[0;32m     62\u001b[0m \u001b[39mdef\u001b[39;00m \u001b[39msearch_submissions\u001b[39m(\u001b[39mself\u001b[39m, \u001b[39m*\u001b[39m\u001b[39m*\u001b[39mkwargs):\n\u001b[0;32m     63\u001b[0m \u001b[39m    \u001b[39m\u001b[39m\"\"\"\u001b[39;00m\n\u001b[0;32m     64\u001b[0m \u001b[39m    Method for searching submissions, returns an array of submissions\u001b[39;00m\n\u001b[0;32m     65\u001b[0m \n\u001b[1;32m   (...)\u001b[0m\n\u001b[0;32m     75\u001b[0m \u001b[39m        Response generator object\u001b[39;00m\n\u001b[0;32m     76\u001b[0m \u001b[39m    \"\"\"\u001b[39;00m\n\u001b[1;32m---> 77\u001b[0m     \u001b[39mreturn\u001b[39;00m \u001b[39mself\u001b[39;49m\u001b[39m.\u001b[39;49m_search(kind\u001b[39m=\u001b[39;49m\u001b[39m\"\u001b[39;49m\u001b[39msubmission\u001b[39;49m\u001b[39m\"\u001b[39;49m, \u001b[39m*\u001b[39;49m\u001b[39m*\u001b[39;49mkwargs)\n",
      "File \u001b[1;32mc:\\Users\\celli\\AppData\\Local\\Programs\\Python\\Python311\\Lib\\site-packages\\pmaw\\PushshiftAPIBase.py:287\u001b[0m, in \u001b[0;36mPushshiftAPIBase._search\u001b[1;34m(self, kind, max_ids_per_request, max_results_per_request, mem_safe, search_window, dataset, safe_exit, cache_dir, filter_fn, **kwargs)\u001b[0m\n\u001b[0;32m    284\u001b[0m \u001b[39mif\u001b[39;00m \u001b[39m\"\u001b[39m\u001b[39mids\u001b[39m\u001b[39m\"\u001b[39m \u001b[39mnot\u001b[39;00m \u001b[39min\u001b[39;00m \u001b[39mself\u001b[39m\u001b[39m.\u001b[39mreq\u001b[39m.\u001b[39mpayload \u001b[39mand\u001b[39;00m \u001b[39mlen\u001b[39m(\u001b[39mself\u001b[39m\u001b[39m.\u001b[39mreq\u001b[39m.\u001b[39mreq_list) \u001b[39m==\u001b[39m \u001b[39m0\u001b[39m:\n\u001b[0;32m    285\u001b[0m     \u001b[39m# check to see how many results are remaining\u001b[39;00m\n\u001b[0;32m    286\u001b[0m     \u001b[39mself\u001b[39m\u001b[39m.\u001b[39mreq\u001b[39m.\u001b[39mreq_list\u001b[39m.\u001b[39mappendleft((url, \u001b[39mself\u001b[39m\u001b[39m.\u001b[39mreq\u001b[39m.\u001b[39mpayload))\n\u001b[1;32m--> 287\u001b[0m     \u001b[39mself\u001b[39;49m\u001b[39m.\u001b[39;49m_multithread(check_total\u001b[39m=\u001b[39;49m\u001b[39mTrue\u001b[39;49;00m)\n\u001b[0;32m    288\u001b[0m     total_avail \u001b[39m=\u001b[39m \u001b[39mself\u001b[39m\u001b[39m.\u001b[39mmeta\u001b[39m.\u001b[39mtotal_results\n\u001b[0;32m    290\u001b[0m     \u001b[39mif\u001b[39;00m \u001b[39mself\u001b[39m\u001b[39m.\u001b[39mreq\u001b[39m.\u001b[39mlimit \u001b[39mis\u001b[39;00m \u001b[39mNone\u001b[39;00m:\n",
      "File \u001b[1;32mc:\\Users\\celli\\AppData\\Local\\Programs\\Python\\Python311\\Lib\\site-packages\\pmaw\\PushshiftAPIBase.py:108\u001b[0m, in \u001b[0;36mPushshiftAPIBase._multithread\u001b[1;34m(self, check_total)\u001b[0m\n\u001b[0;32m    101\u001b[0m         reqs\u001b[39m.\u001b[39mappend(\u001b[39mself\u001b[39m\u001b[39m.\u001b[39mreq\u001b[39m.\u001b[39mreq_list\u001b[39m.\u001b[39mpopleft())\n\u001b[0;32m    103\u001b[0m futures \u001b[39m=\u001b[39m {\n\u001b[0;32m    104\u001b[0m     executor\u001b[39m.\u001b[39msubmit(\u001b[39mself\u001b[39m\u001b[39m.\u001b[39m_get, url_pay[\u001b[39m0\u001b[39m], url_pay[\u001b[39m1\u001b[39m]): url_pay\n\u001b[0;32m    105\u001b[0m     \u001b[39mfor\u001b[39;00m url_pay \u001b[39min\u001b[39;00m reqs\n\u001b[0;32m    106\u001b[0m }\n\u001b[1;32m--> 108\u001b[0m \u001b[39mself\u001b[39;49m\u001b[39m.\u001b[39;49m_futures_handler(futures, check_total)\n\u001b[0;32m    110\u001b[0m \u001b[39m# reset attempts if no failures\u001b[39;00m\n\u001b[0;32m    111\u001b[0m \u001b[39mself\u001b[39m\u001b[39m.\u001b[39m_rate_limit\u001b[39m.\u001b[39m_check_fail()\n",
      "File \u001b[1;32mc:\\Users\\celli\\AppData\\Local\\Programs\\Python\\Python311\\Lib\\site-packages\\pmaw\\PushshiftAPIBase.py:139\u001b[0m, in \u001b[0;36mPushshiftAPIBase._futures_handler\u001b[1;34m(self, futures, check_total)\u001b[0m\n\u001b[0;32m    138\u001b[0m \u001b[39mdef\u001b[39;00m \u001b[39m_futures_handler\u001b[39m(\u001b[39mself\u001b[39m, futures, check_total):\n\u001b[1;32m--> 139\u001b[0m     \u001b[39mfor\u001b[39;00m future \u001b[39min\u001b[39;00m as_completed(futures):\n\u001b[0;32m    140\u001b[0m         url_pay \u001b[39m=\u001b[39m futures[future]\n\u001b[0;32m    141\u001b[0m         \u001b[39mself\u001b[39m\u001b[39m.\u001b[39mnum_req \u001b[39m+\u001b[39m\u001b[39m=\u001b[39m \u001b[39mint\u001b[39m(\u001b[39mnot\u001b[39;00m check_total)\n",
      "File \u001b[1;32mc:\\Users\\celli\\AppData\\Local\\Programs\\Python\\Python311\\Lib\\concurrent\\futures\\_base.py:243\u001b[0m, in \u001b[0;36mas_completed\u001b[1;34m(fs, timeout)\u001b[0m\n\u001b[0;32m    238\u001b[0m     \u001b[39mif\u001b[39;00m wait_timeout \u001b[39m<\u001b[39m \u001b[39m0\u001b[39m:\n\u001b[0;32m    239\u001b[0m         \u001b[39mraise\u001b[39;00m \u001b[39mTimeoutError\u001b[39;00m(\n\u001b[0;32m    240\u001b[0m                 \u001b[39m'\u001b[39m\u001b[39m%d\u001b[39;00m\u001b[39m (of \u001b[39m\u001b[39m%d\u001b[39;00m\u001b[39m) futures unfinished\u001b[39m\u001b[39m'\u001b[39m \u001b[39m%\u001b[39m (\n\u001b[0;32m    241\u001b[0m                 \u001b[39mlen\u001b[39m(pending), total_futures))\n\u001b[1;32m--> 243\u001b[0m waiter\u001b[39m.\u001b[39;49mevent\u001b[39m.\u001b[39;49mwait(wait_timeout)\n\u001b[0;32m    245\u001b[0m \u001b[39mwith\u001b[39;00m waiter\u001b[39m.\u001b[39mlock:\n\u001b[0;32m    246\u001b[0m     finished \u001b[39m=\u001b[39m waiter\u001b[39m.\u001b[39mfinished_futures\n",
      "File \u001b[1;32mc:\\Users\\celli\\AppData\\Local\\Programs\\Python\\Python311\\Lib\\threading.py:622\u001b[0m, in \u001b[0;36mEvent.wait\u001b[1;34m(self, timeout)\u001b[0m\n\u001b[0;32m    620\u001b[0m signaled \u001b[39m=\u001b[39m \u001b[39mself\u001b[39m\u001b[39m.\u001b[39m_flag\n\u001b[0;32m    621\u001b[0m \u001b[39mif\u001b[39;00m \u001b[39mnot\u001b[39;00m signaled:\n\u001b[1;32m--> 622\u001b[0m     signaled \u001b[39m=\u001b[39m \u001b[39mself\u001b[39;49m\u001b[39m.\u001b[39;49m_cond\u001b[39m.\u001b[39;49mwait(timeout)\n\u001b[0;32m    623\u001b[0m \u001b[39mreturn\u001b[39;00m signaled\n",
      "File \u001b[1;32mc:\\Users\\celli\\AppData\\Local\\Programs\\Python\\Python311\\Lib\\threading.py:320\u001b[0m, in \u001b[0;36mCondition.wait\u001b[1;34m(self, timeout)\u001b[0m\n\u001b[0;32m    318\u001b[0m \u001b[39mtry\u001b[39;00m:    \u001b[39m# restore state no matter what (e.g., KeyboardInterrupt)\u001b[39;00m\n\u001b[0;32m    319\u001b[0m     \u001b[39mif\u001b[39;00m timeout \u001b[39mis\u001b[39;00m \u001b[39mNone\u001b[39;00m:\n\u001b[1;32m--> 320\u001b[0m         waiter\u001b[39m.\u001b[39;49macquire()\n\u001b[0;32m    321\u001b[0m         gotit \u001b[39m=\u001b[39m \u001b[39mTrue\u001b[39;00m\n\u001b[0;32m    322\u001b[0m     \u001b[39melse\u001b[39;00m:\n",
      "\u001b[1;31mKeyboardInterrupt\u001b[0m: "
     ]
    }
   ],
   "source": [
    "posts = api_praw.search_submissions(subreddit=\"france\", limit=None, before=before, after=after)\n",
    "post_list = [post for post in posts]"
   ]
  },
  {
   "attachments": {},
   "cell_type": "markdown",
   "metadata": {},
   "source": [
    "### 4: DB functions"
   ]
  },
  {
   "cell_type": "code",
   "execution_count": 6,
   "metadata": {},
   "outputs": [],
   "source": [
    "def create_db_connection(host, user, password, db):\n",
    "    connection = None\n",
    "    try:\n",
    "        connection = mysql.connector.connect(\n",
    "            host = host,\n",
    "            user = user,\n",
    "            passwd = password,\n",
    "            database = db\n",
    "        )\n",
    "        print(\"MySQL Database connection established\")\n",
    "    except Error as err:\n",
    "        print(f\"Error: '{err}'\")\n",
    "\n",
    "    return connection\n",
    "\n",
    "def execute_query(connection, query):\n",
    "    cursor = connection.cursor()\n",
    "    try:\n",
    "        cursor.execute(query)\n",
    "        connection.commit()\n",
    "    except Error as err:\n",
    "        print(f\"Error: '{err}'\")"
   ]
  },
  {
   "attachments": {},
   "cell_type": "markdown",
   "metadata": {},
   "source": [
    "### 5: DB connection"
   ]
  },
  {
   "cell_type": "code",
   "execution_count": 37,
   "metadata": {},
   "outputs": [
    {
     "name": "stdout",
     "output_type": "stream",
     "text": [
      "MySQL Database connection successful\n"
     ]
    }
   ],
   "source": [
    "connection = create_db_connection(\"localhost\", \"root\", \"######\", \"######\") # Connect to the Database"
   ]
  },
  {
   "attachments": {},
   "cell_type": "markdown",
   "metadata": {},
   "source": [
    "### 6: Scraping posts"
   ]
  },
  {
   "cell_type": "code",
   "execution_count": 38,
   "metadata": {},
   "outputs": [
    {
     "name": "stdout",
     "output_type": "stream",
     "text": [
      "Query successful\n",
      "Query successful\n",
      "Query successful\n",
      "Query successful\n",
      "Query successful\n",
      "Query successful\n",
      "Query successful\n",
      "Query successful\n",
      "Query successful\n",
      "Query successful\n"
     ]
    }
   ],
   "source": [
    "for x in post_list:\n",
    "    ins = f\"INSERT INTO post VALUES (\\\"{x['id']}\\\", {x['over_18']}, {str(x['num_comments'] > 0)}, {str(x['selftext'] == '[deleted]')},\\\"{x['title']}\\\", \\\"{x['selftext']}\\\");\"\n",
    "    execute_query(connection, ins)"
   ]
  },
  {
   "attachments": {},
   "cell_type": "markdown",
   "metadata": {},
   "source": [
    "### 7: Scraping comments"
   ]
  },
  {
   "cell_type": "code",
   "execution_count": null,
   "metadata": {},
   "outputs": [],
   "source": [
    "def explore_and_insert_comments(commentForest, postID):\n",
    "    for comment in commentForest:\n",
    "        replies = comment.replies\n",
    "        parent = comment.parent_id\n",
    "        if parent.startswith('t3_'):\n",
    "            ins = f\"INSERT INTO comments VALUES (\\\"{comment.id}\\\", {str(len(replies) > 0)}, \\\"{comment.body}\\\", {postID}, NULL);\"\n",
    "        else:\n",
    "            ins = f\"INSERT INTO comments VALUES (\\\"{comment.id}\\\", {str(len(replies) > 0)}, \\\"{comment.body}\\\", {postID}, {parent.replace('t1_', '')} );\"\n",
    "        execute_query(connection, ins)\n",
    "        if (len(replies) > 0):\n",
    "            explore_and_insert_comments(replies, postID)\n"
   ]
  },
  {
   "cell_type": "code",
   "execution_count": 63,
   "metadata": {},
   "outputs": [
    {
     "name": "stdout",
     "output_type": "stream",
     "text": [
      "101\n"
     ]
    }
   ],
   "source": [
    "id = [x['id'] for x in post_list]\n",
    "id_formated = [i if i.startswith('t3_') else f't3_{i}' for i in id]\n",
    "\n",
    "n = 0\n",
    "for sub in reddit.info(fullnames=id_formated):\n",
    "    explore_and_insert_comments(sub.comments, id[n])\n",
    "    n += 1"
   ]
  },
  {
   "attachments": {},
   "cell_type": "markdown",
   "metadata": {},
   "source": [
    "### 8: Closing DB connection"
   ]
  },
  {
   "cell_type": "code",
   "execution_count": 39,
   "metadata": {},
   "outputs": [],
   "source": [
    "connection.close()"
   ]
  }
 ],
 "metadata": {
  "kernelspec": {
   "display_name": "Python 3",
   "language": "python",
   "name": "python3"
  },
  "language_info": {
   "codemirror_mode": {
    "name": "ipython",
    "version": 3
   },
   "file_extension": ".py",
   "mimetype": "text/x-python",
   "name": "python",
   "nbconvert_exporter": "python",
   "pygments_lexer": "ipython3",
   "version": "3.11.2"
  },
  "orig_nbformat": 4
 },
 "nbformat": 4,
 "nbformat_minor": 2
}
