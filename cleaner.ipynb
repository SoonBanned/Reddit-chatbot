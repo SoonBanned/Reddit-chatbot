{
 "cells": [
  {
   "cell_type": "code",
   "execution_count": 1,
   "metadata": {},
   "outputs": [],
   "source": [
    "from textblob import TextBlob\n",
    "from textblob_fr import PatternTagger, PatternAnalyzer\n",
    "import mysql.connector\n",
    "from mysql.connector import Error\n",
    "import re"
   ]
  },
  {
   "cell_type": "code",
   "execution_count": 3,
   "metadata": {},
   "outputs": [],
   "source": [
    "def create_db_connection(host, user, password, db):\n",
    "    connection = None\n",
    "    try:\n",
    "        connection = mysql.connector.connect(\n",
    "            host = host,\n",
    "            user = user,\n",
    "            passwd = password,\n",
    "            database = db\n",
    "        )\n",
    "        print(\"MySQL Database connection established\")\n",
    "    except Error as err:\n",
    "        print(f\"Error: '{err}'\")\n",
    "\n",
    "    return connection\n",
    "\n",
    "def execute_query(connection, query):\n",
    "    cursor = connection.cursor()\n",
    "    try:\n",
    "        cursor.execute(query)\n",
    "        connection.commit()\n",
    "    except Error as err:\n",
    "        print(f\"Error: '{err}'\")\n",
    "\n",
    "\n",
    "def execute_query_get_result(connection, query):\n",
    "    cursor = connection.cursor()\n",
    "    try:\n",
    "        cursor.execute(query)\n",
    "        L = cursor.fetchall()\n",
    "        connection.commit()\n",
    "    except Error as err:\n",
    "        print(f\"Error: '{err}'\")\n",
    "    return L"
   ]
  },
  {
   "cell_type": "code",
   "execution_count": 9,
   "metadata": {},
   "outputs": [
    {
     "name": "stdout",
     "output_type": "stream",
     "text": [
      "MySQL Database connection established\n"
     ]
    }
   ],
   "source": [
    "connection = create_db_connection(XXX) # Connect to the Database"
   ]
  },
  {
   "cell_type": "code",
   "execution_count": 5,
   "metadata": {},
   "outputs": [
    {
     "name": "stdout",
     "output_type": "stream",
     "text": [
      "Number of post saved :  373365\n",
      "Number of comments saved :  1876164\n"
     ]
    }
   ],
   "source": [
    "query = \"SELECT * FROM post;\"\n",
    "ALL_Post_list = execute_query_get_result(connection, query)\n",
    "print(\"Number of post saved : \", len(ALL_Post_list))\n",
    "\n",
    "query = \"SELECT * FROM comments;\"\n",
    "ALL_comments_list = execute_query_get_result(connection, query)\n",
    "print(\"Number of comments saved : \", len(ALL_comments_list))"
   ]
  },
  {
   "cell_type": "code",
   "execution_count": 6,
   "metadata": {},
   "outputs": [],
   "source": [
    "def clean_text(text):\n",
    "    return re.sub(r'[^\\w\\s]', '', text)"
   ]
  },
  {
   "cell_type": "code",
   "execution_count": 8,
   "metadata": {},
   "outputs": [
    {
     "name": "stdout",
     "output_type": "stream",
     "text": [
      "Error: '1062 (23000): Duplicate entry '9wdj0x' for key 'post_norm.PRIMARY''\n"
     ]
    }
   ],
   "source": [
    "for post in ALL_Post_list[175404:]:\n",
    "    ins = f\"INSERT INTO post_norm VALUES (\\\"{post[0]}\\\", {post[1]}, {post[2]}, {post[3]},\\\"{clean_text(post[4])}\\\", \\\"{clean_text(post[5])}\\\");\"\n",
    "    execute_query(connection, ins)"
   ]
  },
  {
   "cell_type": "code",
   "execution_count": 10,
   "metadata": {},
   "outputs": [],
   "source": [
    "for comment in ALL_comments_list:\n",
    "    ins = f\"INSERT INTO comments_norm VALUES (\\\"{comment[0]}\\\", {comment[1]}, \\\"{clean_text(comment[2])}\\\", \\\"{comment[3]}\\\", \\\"{comment[4]}\\\" );\"\n",
    "    execute_query(connection, ins)"
   ]
  }
 ],
 "metadata": {
  "kernelspec": {
   "display_name": "Python 3",
   "language": "python",
   "name": "python3"
  },
  "language_info": {
   "codemirror_mode": {
    "name": "ipython",
    "version": 3
   },
   "file_extension": ".py",
   "mimetype": "text/x-python",
   "name": "python",
   "nbconvert_exporter": "python",
   "pygments_lexer": "ipython3",
   "version": "3.11.2"
  },
  "orig_nbformat": 4
 },
 "nbformat": 4,
 "nbformat_minor": 2
}
